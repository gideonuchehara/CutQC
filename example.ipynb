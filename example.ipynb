{
 "cells": [
  {
   "cell_type": "markdown",
   "metadata": {},
   "source": [
    "## CutQC Tutorial"
   ]
  },
  {
   "cell_type": "code",
   "execution_count": 1,
   "metadata": {},
   "outputs": [],
   "source": [
    "# Import the CutQC module\n",
    "from cutqc.main import CutQC\n",
    "# We will use our provided function to generate example circuits. You can also create any circuits yourself.\n",
    "from qiskit_helper_functions.non_ibmq_functions import generate_circ"
   ]
  },
  {
   "cell_type": "markdown",
   "metadata": {},
   "source": [
    "### Generate and add circuits\n",
    "The circuits need to be stored in a dictionary. The key is an arbitrary name for the circuit. Each item must contain\n",
    "1. circuit: A quantum circuit\n",
    "2. max_subcircuit_qubit: the max number of qubits each subcircuit can have\n",
    "3. max_cuts: max number of cuts allowed for the cutter\n",
    "4. num_subcircuits: list of number of subcircuits to try"
   ]
  },
  {
   "cell_type": "code",
   "execution_count": 2,
   "metadata": {},
   "outputs": [],
   "source": [
    "circuits = {}\n",
    "max_subcircuit_qubit = 2\n",
    "for full_circ_size in [3]:\n",
    "#     Replace circuit generation and circuit_name to your likes\n",
    "    circuit = generate_circ(full_circ_size=full_circ_size, circuit_type='bv')\n",
    "    circuit_name = 'bv_%d'%full_circ_size\n",
    "    if circuit.num_qubits==0:\n",
    "        continue\n",
    "    else:\n",
    "        circuits[circuit_name] = {\n",
    "            'circuit':circuit,'max_subcircuit_qubit':max_subcircuit_qubit,'max_cuts':10,'num_subcircuits':[2,3,4,5]}"
   ]
  },
  {
   "cell_type": "markdown",
   "metadata": {},
   "source": [
    "### Define hyperparameters\n",
    "1. num_nodes: number of parallel compute nodes. As different computing clusters require very different setups, this functionality is currently not provided.\n",
    "2. num_threads: number of parallel threads. Because of the parallel nature of Python codes, setting >1 threads may affect the readability of the runtime logs. The common-sense runtime tradeoffs are expected.\n",
    "3. qubit_limit: set the max number of qubits your system RAM can handle. If qubit_limit<circuit size, CutQC runs in the DD mode.\n",
    "4. eval_mode: 'sv' for statevector, 'qasm' for qasm simulator, 'runtime' for pseudo backend (for faster runtime benchmark purposes). Running on IBMQ support is coming soon."
   ]
  },
  {
   "cell_type": "code",
   "execution_count": 3,
   "metadata": {},
   "outputs": [],
   "source": [
    "num_nodes = 1\n",
    "num_threads = 1\n",
    "qubit_limit = 24\n",
    "eval_mode = 'sv'"
   ]
  },
  {
   "cell_type": "markdown",
   "metadata": {},
   "source": [
    "### Call CutQC\n",
    "First, look for cuts and generate the necessary hyper information required for post-processing."
   ]
  },
  {
   "cell_type": "code",
   "execution_count": 4,
   "metadata": {},
   "outputs": [
    {
     "name": "stdout",
     "output_type": "stream",
     "text": [
      "******************** Cut ********************\n",
      "     ┌───┐          ┌───┐     \n",
      "q_0: ┤ H ├───────■──┤ H ├─────\n",
      "     ├───┤       │  └───┘┌───┐\n",
      "q_1: ┤ H ├───────┼────■──┤ H ├\n",
      "     ├───┤┌───┐┌─┴─┐┌─┴─┐├───┤\n",
      "q_2: ┤ X ├┤ H ├┤ X ├┤ X ├┤ H ├\n",
      "     └───┘└───┘└───┘└───┘└───┘\n",
      "bv_3 on 2-q : 1 cuts -->\n",
      "Subcircuit 0 : {'effective': 1, 'rho': 0, 'O': 1, 'd': 2}\n",
      "Subcircuit 1 : {'effective': 2, 'rho': 1, 'O': 0, 'd': 2}\n",
      "Estimated postprocessing cost = 3.200e+01\n",
      "--> bv_3 subcircuit_instances:\n",
      "subcircuit_0_instance_idx      #shots     init                           meas                          \n",
      "0                              8192       ('zero', 'zero')               ('comp', 'I')                 \n",
      "     ┌───┐          ┌───┐\n",
      "q_0: ┤ H ├───────■──┤ H ├\n",
      "     ├───┤┌───┐┌─┴─┐└───┘\n",
      "q_1: ┤ X ├┤ H ├┤ X ├─────\n",
      "     └───┘└───┘└───┘     \n",
      "1                              0          ('zero', 'zero')               ('comp', 'Z')                 \n",
      "     ┌───┐          ┌───┐\n",
      "q_0: ┤ H ├───────■──┤ H ├\n",
      "     ├───┤┌───┐┌─┴─┐└───┘\n",
      "q_1: ┤ X ├┤ H ├┤ X ├─────\n",
      "     └───┘└───┘└───┘     \n",
      "2                              8192       ('zero', 'zero')               ('comp', 'X')                 \n",
      "     ┌───┐          ┌───┐\n",
      "q_0: ┤ H ├───────■──┤ H ├\n",
      "     ├───┤┌───┐┌─┴─┐├───┤\n",
      "q_1: ┤ X ├┤ H ├┤ X ├┤ H ├\n",
      "     └───┘└───┘└───┘└───┘\n",
      "3                              8192       ('zero', 'zero')               ('comp', 'Y')                 \n",
      "     ┌───┐           ┌───┐      \n",
      "q_0: ┤ H ├───────■───┤ H ├──────\n",
      "     ├───┤┌───┐┌─┴─┐┌┴───┴┐┌───┐\n",
      "q_1: ┤ X ├┤ H ├┤ X ├┤ SDG ├┤ H ├\n",
      "     └───┘└───┘└───┘└─────┘└───┘\n",
      "subcircuit_1_instance_idx      #shots     init                           meas                          \n",
      "0                              8192       ('zero', 'zero')               ('comp', 'comp')              \n",
      "     ┌───┐     ┌───┐\n",
      "q_0: ┤ H ├──■──┤ H ├\n",
      "     └───┘┌─┴─┐├───┤\n",
      "q_1: ─────┤ X ├┤ H ├\n",
      "          └───┘└───┘\n",
      "1                              8192       ('zero', 'one')                ('comp', 'comp')              \n",
      "     ┌───┐     ┌───┐\n",
      "q_0: ┤ H ├──■──┤ H ├\n",
      "     ├───┤┌─┴─┐├───┤\n",
      "q_1: ┤ X ├┤ X ├┤ H ├\n",
      "     └───┘└───┘└───┘\n",
      "2                              8192       ('zero', 'plus')               ('comp', 'comp')              \n",
      "     ┌───┐     ┌───┐\n",
      "q_0: ┤ H ├──■──┤ H ├\n",
      "     ├───┤┌─┴─┐├───┤\n",
      "q_1: ┤ H ├┤ X ├┤ H ├\n",
      "     └───┘└───┘└───┘\n",
      "3                              8192       ('zero', 'plusI')              ('comp', 'comp')              \n",
      "     ┌───┐          ┌───┐\n",
      "q_0: ┤ H ├───────■──┤ H ├\n",
      "     ├───┤┌───┐┌─┴─┐├───┤\n",
      "q_1: ┤ H ├┤ S ├┤ X ├┤ H ├\n",
      "     └───┘└───┘└───┘└───┘\n",
      "--> bv_3 subcircuit_entries:\n",
      "subcircuit_0_entry_idx         kronecker term (coeff, instance)\n",
      "0                              ((1, 0),)                     \n",
      "1                              ((1, 2),)                     \n",
      "2                              ((1, 3),)                     \n",
      "3                              ((1, 1),)                     \n",
      "... Total 4 subcircuit entries\n",
      "\n",
      "subcircuit_1_entry_idx         kronecker term (coeff, instance)\n",
      "0                              ((1, 0), (1, 1))              \n",
      "1                              ((2, 2), (-1, 0), (-1, 1))    \n",
      "2                              ((2, 3), (-1, 0), (-1, 1))    \n",
      "3                              ((1, 0), (-1, 1))             \n",
      "... Total 4 subcircuit entries\n",
      "\n",
      "--> bv_3 subcircuit_instance_attribution:\n",
      "subcircuit_0_instance_idx      coefficient, subcircuit_entry_idx                 \n",
      "0                              [(1, 0)]                                          \n",
      "2                              [(1, 1)]                                          \n",
      "3                              [(1, 2)]                                          \n",
      "1                              [(1, 3)]                                          \n",
      "... Total 4 subcircuit instances to attribute\n",
      "\n",
      "subcircuit_1_instance_idx      coefficient, subcircuit_entry_idx                 \n",
      "0                              [(1, 0), (-1, 1), (-1, 2), (1, 3)]                \n",
      "1                              [(1, 0), (-1, 1), (-1, 2), (-1, 3)]               \n",
      "2                              [(2, 1)]                                          \n",
      "3                              [(2, 2)]                                          \n",
      "... Total 4 subcircuit instances to attribute\n",
      "\n",
      "--> bv_3 summation_terms:\n",
      "0,0       1,0       \n",
      "0,1       1,1       \n",
      "0,2       1,2       \n",
      "0,3       1,3       \n",
      "... Total 4 summations\n",
      "\n"
     ]
    }
   ],
   "source": [
    "cutqc = CutQC(verbose=True) # verbose turns on detailed ouptut logs. Note that logs are long.\n",
    "cutqc.cut(circuits=circuits) # Cut the circuits"
   ]
  },
  {
   "cell_type": "markdown",
   "metadata": {},
   "source": [
    "### Evaluate the circuits based on the cuts found"
   ]
  },
  {
   "cell_type": "code",
   "execution_count": 5,
   "metadata": {},
   "outputs": [
    {
     "name": "stdout",
     "output_type": "stream",
     "text": [
      "******************** evaluation mode = sv ********************\n",
      "--> Running Subcircuits\n",
      "7 total\n",
      "{('bv_3', 0, ('zero', 'zero'), ('comp', 'I')): array([0., 1.]), ('bv_3', 0, ('zero', 'zero'), ('comp', 'Z')): array([0., 0.])}\n",
      "{('bv_3', 1, ('zero', 'zero'), ('comp', 'comp')): array([0.5, 0. , 0. , 0.5])}\n",
      "{('bv_3', 1, ('zero', 'one'), ('comp', 'comp')): array([0.5, 0. , 0. , 0.5])}\n",
      "{('bv_3', 0, ('zero', 'zero'), ('comp', 'X')): array([ 0., -1.])}\n",
      "{('bv_3', 1, ('zero', 'plus'), ('comp', 'comp')): array([1., 0., 0., 0.])}\n",
      "{('bv_3', 0, ('zero', 'zero'), ('comp', 'Y')): array([0., 0.])}\n",
      "{('bv_3', 1, ('zero', 'plusI'), ('comp', 'comp')): array([0.5, 0. , 0. , 0.5])}\n",
      "--> Attribute shots\n",
      "circuit_name    subcircuit_idx  subcircuit_instance_idx   coefficient, subcircuit_entry_idx\n",
      "bv_3            0               0                         [(1, 0)]                      \n",
      "bv_3            0               1                         [(1, 3)]                      \n",
      "bv_3            1               0                         [(1, 0), (-1, 1), (-1, 2), (1,\n",
      "bv_3            1               1                         [(1, 0), (-1, 1), (-1, 2), (-1\n",
      "bv_3            0               2                         [(1, 1)]                      \n",
      "bv_3            1               2                         [(2, 1)]                      \n",
      "bv_3            0               3                         [(1, 2)]                      \n",
      "bv_3            1               3                         [(2, 2)]                      \n",
      "... Total 8 subcircuit results attributed\n",
      "\n",
      "--> Build\n",
      "circuit_name    summation_term_idx   summation_term                \n",
      "bv_3            0                    [(0, 0), (1, 0)]              \n",
      "bv_3            1                    [(0, 1), (1, 1)]              \n",
      "bv_3            2                    [(0, 2), (1, 2)]              \n",
      "bv_3            3                    [(0, 3), (1, 3)]              \n",
      "... Total 4 summation terms sampled\n",
      "\n",
      "bv_3 _build took 2.929e-03 seconds\n",
      "Sampled 4/4 summation terms\n",
      "{'bv_3': array([0., 0., 0., 0., 0., 0., 0., 1.])}\n"
     ]
    }
   ],
   "source": [
    "reconstructed_probs = cutqc.evaluate(circuits=circuits,\n",
    "                                     eval_mode=eval_mode,\n",
    "                                     qubit_limit=qubit_limit,\n",
    "                                     num_nodes=num_nodes,\n",
    "                                     num_threads=num_threads,\n",
    "                                     ibmq=None)\n",
    "print(reconstructed_probs)"
   ]
  },
  {
   "cell_type": "markdown",
   "metadata": {},
   "source": [
    "The final output of the reconstructed_probs are in a scrambled order due to the placement of the subcircuits. It is trivial to know the order of each state adhering to the original qubit order. However, converting all quantum states to the original order still takes 2^n. In practise, you can look at the output, figure out which states you are interested in, and just earsily convert those. Here we verify for every state that the CutQC output is the same as the original circuit.\n",
    "\n",
    "Note that if the input circuit is large, `verify` may take a long time to run."
   ]
  },
  {
   "cell_type": "code",
   "execution_count": 6,
   "metadata": {},
   "outputs": [
    {
     "name": "stdout",
     "output_type": "stream",
     "text": [
      "******************** Verify ********************\n",
      "Circuit Name         QPU        Error                         \n",
      "bv_3                 sv         5.6e-32                       \n",
      "\n"
     ]
    }
   ],
   "source": [
    "errors = cutqc.verify(circuits=circuits,\n",
    "                      num_nodes=num_nodes,\n",
    "                      num_threads=num_threads,\n",
    "                      qubit_limit=qubit_limit,\n",
    "                      eval_mode=eval_mode)"
   ]
  },
  {
   "cell_type": "markdown",
   "metadata": {},
   "source": [
    "Since we are using statevector simulator as the QPU backend, the error is 0 within numerical inaccuracies."
   ]
  }
 ],
 "metadata": {
  "kernelspec": {
   "display_name": "Python 3",
   "language": "python",
   "name": "python3"
  },
  "language_info": {
   "codemirror_mode": {
    "name": "ipython",
    "version": 3
   },
   "file_extension": ".py",
   "mimetype": "text/x-python",
   "name": "python",
   "nbconvert_exporter": "python",
   "pygments_lexer": "ipython3",
   "version": "3.8.8"
  },
  "metadata": {
   "interpreter": {
    "hash": "052a5ba3f1fe86162c72ffd1cd1fbcc9a92cd568a60bb637f6390c98596feaa2"
   }
  }
 },
 "nbformat": 4,
 "nbformat_minor": 2
}
